{
  "cells": [
    {
      "cell_type": "markdown",
      "metadata": {
        "id": "view-in-github",
        "colab_type": "text"
      },
      "source": [
        "<a href=\"https://colab.research.google.com/github/Soyeon250/DataAnalysis/blob/main/%EB%A8%B8%EC%8B%A0%EB%9F%AC%EB%8B%9D.ipynb\" target=\"_parent\"><img src=\"https://colab.research.google.com/assets/colab-badge.svg\" alt=\"Open In Colab\"/></a>"
      ]
    },
    {
      "cell_type": "code",
      "source": [
        "import torch\n",
        "import torch.nn as nn\n",
        "import torch.optim as optim\n",
        "from torchvision import datasets, transforms\n",
        "\n",
        "# MNIST 데이터 셋 로드\n",
        "train_dataset = datasets.MNIST(root='./data', train=True, transform=transforms.ToTensor(), download=True)\n",
        "test_dataset = datasets.MNIST(root='./data', train=False, transform=transforms.ToTensor())\n",
        "\n",
        "# 데이터 로더 생성\n",
        "train_loader = torch.utils.data.DataLoader(train_dataset, batch_size=64, shuffle=True)\n",
        "test_loader = torch.utils.data.DataLoader(test_dataset, batch_size=1000, shuffle=False)\n",
        "\n",
        "# 모델 정의\n",
        "class Net(nn.Module):\n",
        "    def __init__(self):\n",
        "        super (Net, self)._ init_()\n",
        "        self.fc1 = nn. Linear (28*28, 512)\n",
        "        self.fc2 = nn. Linear (512, 10)\n",
        "    def forward(self, x):\n",
        "        x = x. view(-1, 28*28)\n",
        "        x = torch.relu(self.fc1(x))\n",
        "        x = self.fc2(x)\n",
        "        return x\n",
        "\n",
        "# 모델, 손실 함수, 옵티마이저 초기화\n",
        "model = Net()\n",
        "criterion = nn.CrossEntropyLoss()\n",
        "optimizer = optim. SGD(model.parameters(), 1r=0.01)\n",
        "\n",
        "# 학습\n",
        "for epoch in range(10):\n",
        "    for batch_idx, (data, target) in enumerate(train_loader):\n",
        "        optimizer.zero grad()\n",
        "        output = model(data)\n",
        "        loss = criterion (output, target)\n",
        "        loss.backward()\n",
        "        optimizer.step()\n",
        "    print ('Epoch %d Loss: %4f' % (epoch+1, loss.item()))\n",
        "\n",
        "# 테스트\n",
        "correct = 0\n",
        "total = 0\n",
        "with torch.no grad():\n",
        "    for data, target in test_loader:\n",
        "        output = model(data)\n",
        "        # target = torch.eye(10)[target]\n",
        "        _, predicted = torch.max(output.data, 1)\n",
        "        total += target.size(0)\n",
        "        correct += (predicted == target).sum().item()\n",
        "\n",
        "print('Accuracy: {}%'.format(100 * correct / total))"
      ],
      "metadata": {
        "id": "joJK-hFh0vt1"
      },
      "execution_count": null,
      "outputs": []
    }
  ],
  "metadata": {
    "colab": {
      "name": "Colab 시작하기",
      "provenance": [],
      "include_colab_link": true
    },
    "kernelspec": {
      "display_name": "Python 3",
      "name": "python3"
    }
  },
  "nbformat": 4,
  "nbformat_minor": 0
}