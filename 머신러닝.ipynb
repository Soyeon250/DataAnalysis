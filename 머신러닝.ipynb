{
  "cells": [
    {
      "cell_type": "markdown",
      "metadata": {
        "id": "view-in-github",
        "colab_type": "text"
      },
      "source": [
        "<a href=\"https://colab.research.google.com/github/Soyeon250/DataAnalysis/blob/main/%EB%A8%B8%EC%8B%A0%EB%9F%AC%EB%8B%9D.ipynb\" target=\"_parent\"><img src=\"https://colab.research.google.com/assets/colab-badge.svg\" alt=\"Open In Colab\"/></a>"
      ]
    },
    {
      "cell_type": "markdown",
      "source": [
        "예시 코드 원본"
      ],
      "metadata": {
        "id": "8b1683tX3Jfh"
      }
    },
    {
      "cell_type": "code",
      "source": [
        "import torch\n",
        "import torch.nn as nn\n",
        "import torch.optim as optim\n",
        "from torchvision import datasets, transforms\n",
        "\n",
        "# MNIST 데이터 셋 로드\n",
        "train_dataset = datasets.MNIST(root='./data', train=True, transform=transforms.ToTensor(), download=True)\n",
        "test_dataset = datasets.MNIST(root='./data', train=False, transform=transforms.ToTensor())\n",
        "\n",
        "# 데이터 로더 생성\n",
        "train_loader = torch.utils.data.DataLoader(train_dataset, batch_size=64, shuffle=True)\n",
        "test_loader = torch.utils.data.DataLoader(test_dataset, batch_size=1000, shuffle=False)\n",
        "\n",
        "# 모델 정의\n",
        "class Net(nn.Module):\n",
        "    def __init__(self):\n",
        "        super(Net, self).__init__()\n",
        "        self.fc1 = nn.Linear (28*28, 512)\n",
        "        self.fc2 = nn.Linear (512, 10)\n",
        "\n",
        "    def forward(self, x):\n",
        "        x = x.view(-1, 28*28)\n",
        "        x = torch.relu(self.fc1(x))\n",
        "        x = self.fc2(x)\n",
        "        return x\n",
        "\n",
        "# 모델, 손실 함수, 옵티마이저 초기화\n",
        "model = Net()\n",
        "criterion = nn.CrossEntropyLoss()\n",
        "optimizer = optim.SGD(model.parameters(), lr=0.01)\n",
        "\n",
        "# 학습\n",
        "for epoch in range(10):\n",
        "    for batch_idx, (data, target) in enumerate(train_loader):\n",
        "        optimizer.zero_grad()\n",
        "        output = model(data)\n",
        "        loss = criterion (output, target)\n",
        "        loss.backward()\n",
        "        optimizer.step()\n",
        "    print ('Epoch %d Loss: %4f' % (epoch+1, loss.item()))\n",
        "\n",
        "# 테스트\n",
        "correct = 0\n",
        "total = 0\n",
        "with torch.no_grad():\n",
        "    for data, target in test_loader:\n",
        "        output = model(data)\n",
        "        # target = torch.eye(10)[target]\n",
        "        _, predicted = torch.max(output.data, 1)\n",
        "        total += target.size(0)\n",
        "        correct += (predicted == target).sum().item()\n",
        "\n",
        "print('Accuracy: {}%'.format(100 * correct / total))"
      ],
      "metadata": {
        "id": "joJK-hFh0vt1",
        "outputId": "7254c287-7b83-4d85-a5fc-7bb46718ab0b",
        "colab": {
          "base_uri": "https://localhost:8080/"
        }
      },
      "execution_count": null,
      "outputs": [
        {
          "output_type": "stream",
          "name": "stderr",
          "text": [
            "100%|██████████| 9.91M/9.91M [00:01<00:00, 6.09MB/s]\n",
            "100%|██████████| 28.9k/28.9k [00:00<00:00, 163kB/s]\n",
            "100%|██████████| 1.65M/1.65M [00:01<00:00, 1.51MB/s]\n",
            "100%|██████████| 4.54k/4.54k [00:00<00:00, 7.57MB/s]\n"
          ]
        },
        {
          "output_type": "stream",
          "name": "stdout",
          "text": [
            "Epoch 1 Loss: 0.579688\n",
            "Epoch 2 Loss: 0.357776\n",
            "Epoch 3 Loss: 0.421023\n",
            "Epoch 4 Loss: 1.089115\n",
            "Epoch 5 Loss: 0.352680\n",
            "Epoch 6 Loss: 0.307033\n",
            "Epoch 7 Loss: 0.361305\n",
            "Epoch 8 Loss: 0.528777\n",
            "Epoch 9 Loss: 0.139083\n",
            "Epoch 10 Loss: 0.553333\n",
            "Accuracy: 93.27%\n"
          ]
        }
      ]
    },
    {
      "cell_type": "markdown",
      "source": [
        "제미나이(1)"
      ],
      "metadata": {
        "id": "WXRM888Z51jN"
      }
    },
    {
      "cell_type": "code",
      "source": [
        "import torch\n",
        "import torch.nn as nn\n",
        "import torch.optim as optim\n",
        "from torchvision import datasets, transforms\n",
        "\n",
        "# MNIST 데이터 셋 로드\n",
        "train_dataset = datasets.MNIST(root='./data', train=True, transform=transforms.ToTensor(), download=True)\n",
        "test_dataset = datasets.MNIST(root='./data', train=False, transform=transforms.ToTensor())\n",
        "\n",
        "# 데이터 로더 생성\n",
        "train_loader = torch.utils.data.DataLoader(train_dataset, batch_size=64, shuffle=True)\n",
        "test_loader = torch.utils.data.DataLoader(test_dataset, batch_size=1000, shuffle=False)\n",
        "\n",
        "# 모델 정의 (활성함수를 LeakyReLU로 변경)\n",
        "class Net(nn.Module):\n",
        "    def __init__(self):\n",
        "        super(Net, self).__init__()\n",
        "        self.fc1 = nn.Linear (28*28, 512)\n",
        "        self.fc2 = nn.Linear (512, 10)\n",
        "\n",
        "    def forward(self, x):\n",
        "        x = x.view(-1, 28*28)\n",
        "        x = torch.sigmoid(self.fc1(x)) # sigmoid로 교체\n",
        "        x = self.fc2(x)\n",
        "        return x\n",
        "\n",
        "# 모델, 손실 함수, 옵티마이저 초기화\n",
        "model = Net()\n",
        "criterion = nn.MSELoss() # 손실함수 MSELoss로 변경\n",
        "optimizer = optim.Adam(model.parameters(), lr=0.001) # 옵티마이저 Adam으로 변경\n",
        "\n",
        "# 학습\n",
        "for epoch in range(10):\n",
        "    for batch_idx, (data, target) in enumerate(train_loader):\n",
        "        optimizer.zero_grad()\n",
        "        output = model(data)\n",
        "        target_one_hot = torch.nn.functional.one_hot(target, num_classes=10).float() # 코드 추가(손실함수)\n",
        "        loss = criterion(output, target_one_hot) # loss 계산 방식 변경\n",
        "        loss.backward()\n",
        "        optimizer.step()\n",
        "    print ('Epoch %d Loss: %4f' % (epoch+1, loss.item()))\n",
        "\n",
        "# 테스트\n",
        "correct = 0\n",
        "total = 0\n",
        "with torch.no_grad():\n",
        "    for data, target in test_loader:\n",
        "        output = model(data)\n",
        "        # target = torch.eye(10)[target]\n",
        "        _, predicted = torch.max(output.data, 1)\n",
        "        total += target.size(0)\n",
        "        correct += (predicted == target).sum().item()\n",
        "\n",
        "print('Accuracy: {}%'.format(100 * correct / total))"
      ],
      "metadata": {
        "id": "SCGiYWIR4JPN",
        "outputId": "4a811b0d-8611-45b9-c7c1-91f7d843ca35",
        "colab": {
          "base_uri": "https://localhost:8080/"
        }
      },
      "execution_count": 5,
      "outputs": [
        {
          "output_type": "stream",
          "name": "stdout",
          "text": [
            "Epoch 1 Loss: 0.021005\n",
            "Epoch 2 Loss: 0.006688\n",
            "Epoch 3 Loss: 0.006859\n",
            "Epoch 4 Loss: 0.006115\n",
            "Epoch 5 Loss: 0.008723\n",
            "Epoch 6 Loss: 0.013544\n",
            "Epoch 7 Loss: 0.006979\n",
            "Epoch 8 Loss: 0.008625\n",
            "Epoch 9 Loss: 0.003142\n",
            "Epoch 10 Loss: 0.006064\n",
            "Accuracy: 97.64%\n"
          ]
        }
      ]
    },
    {
      "cell_type": "code",
      "source": [],
      "metadata": {
        "id": "o1ui2mUe7Ukg"
      },
      "execution_count": null,
      "outputs": []
    }
  ],
  "metadata": {
    "colab": {
      "name": "Colab 시작하기",
      "provenance": [],
      "include_colab_link": true
    },
    "kernelspec": {
      "display_name": "Python 3",
      "name": "python3"
    }
  },
  "nbformat": 4,
  "nbformat_minor": 0
}