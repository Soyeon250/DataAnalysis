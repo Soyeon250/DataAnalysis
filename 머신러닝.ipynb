{
  "cells": [
    {
      "cell_type": "markdown",
      "metadata": {
        "id": "view-in-github",
        "colab_type": "text"
      },
      "source": [
        "<a href=\"https://colab.research.google.com/github/Soyeon250/DataAnalysis/blob/main/%EB%A8%B8%EC%8B%A0%EB%9F%AC%EB%8B%9D.ipynb\" target=\"_parent\"><img src=\"https://colab.research.google.com/assets/colab-badge.svg\" alt=\"Open In Colab\"/></a>"
      ]
    },
    {
      "cell_type": "markdown",
      "source": [
        "예시 코드 원본"
      ],
      "metadata": {
        "id": "8b1683tX3Jfh"
      }
    },
    {
      "cell_type": "code",
      "source": [
        "import torch\n",
        "import torch.nn as nn\n",
        "import torch.optim as optim\n",
        "from torchvision import datasets, transforms\n",
        "\n",
        "# MNIST 데이터 셋 로드\n",
        "train_dataset = datasets.MNIST(root='./data', train=True, transform=transforms.ToTensor(), download=True)\n",
        "test_dataset = datasets.MNIST(root='./data', train=False, transform=transforms.ToTensor())\n",
        "\n",
        "# 데이터 로더 생성\n",
        "train_loader = torch.utils.data.DataLoader(train_dataset, batch_size=64, shuffle=True)\n",
        "test_loader = torch.utils.data.DataLoader(test_dataset, batch_size=1000, shuffle=False)\n",
        "\n",
        "# 모델 정의\n",
        "class Net(nn.Module):\n",
        "    def __init__(self):\n",
        "        super(Net, self).__init__()\n",
        "        self.fc1 = nn.Linear (28*28, 512)\n",
        "        self.fc2 = nn.Linear (512, 10)\n",
        "\n",
        "    def forward(self, x):\n",
        "        x = x.view(-1, 28*28)\n",
        "        x = torch.relu(self.fc1(x))\n",
        "        x = self.fc2(x)\n",
        "        return x\n",
        "\n",
        "# 모델, 손실 함수, 옵티마이저 초기화\n",
        "model = Net()\n",
        "criterion = nn.CrossEntropyLoss()\n",
        "optimizer = optim.SGD(model.parameters(), lr=0.01)\n",
        "\n",
        "# 학습\n",
        "for epoch in range(10):\n",
        "    for batch_idx, (data, target) in enumerate(train_loader):\n",
        "        optimizer.zero_grad()\n",
        "        output = model(data)\n",
        "        loss = criterion (output, target)\n",
        "        loss.backward()\n",
        "        optimizer.step()\n",
        "    print ('Epoch %d Loss: %4f' % (epoch+1, loss.item()))\n",
        "\n",
        "# 테스트\n",
        "correct = 0\n",
        "total = 0\n",
        "with torch.no_grad():\n",
        "    for data, target in test_loader:\n",
        "        output = model(data)\n",
        "        # target = torch.eye(10)[target]\n",
        "        _, predicted = torch.max(output.data, 1)\n",
        "        total += target.size(0)\n",
        "        correct += (predicted == target).sum().item()\n",
        "\n",
        "print('Accuracy: {}%'.format(100 * correct / total))"
      ],
      "metadata": {
        "id": "joJK-hFh0vt1",
        "outputId": "a454cc4b-b895-4af0-baa3-f560a32f80a6",
        "colab": {
          "base_uri": "https://localhost:8080/"
        }
      },
      "execution_count": null,
      "outputs": [
        {
          "output_type": "stream",
          "name": "stdout",
          "text": [
            "Epoch 1 Loss: 0.495167\n",
            "Epoch 2 Loss: 0.326656\n",
            "Epoch 3 Loss: 0.323552\n",
            "Epoch 4 Loss: 0.477345\n",
            "Epoch 5 Loss: 0.281959\n",
            "Epoch 6 Loss: 0.344013\n",
            "Epoch 7 Loss: 0.249688\n",
            "Epoch 8 Loss: 0.091747\n",
            "Epoch 9 Loss: 0.080903\n",
            "Epoch 10 Loss: 0.306817\n",
            "Accuracy: 93.16%\n"
          ]
        }
      ]
    },
    {
      "cell_type": "markdown",
      "source": [
        "LeakyReLU, MSELoss, Adam"
      ],
      "metadata": {
        "id": "WXRM888Z51jN"
      }
    },
    {
      "cell_type": "code",
      "source": [
        "import torch\n",
        "import torch.nn as nn\n",
        "import torch.optim as optim\n",
        "from torchvision import datasets, transforms\n",
        "import torch.nn.functional as F\n",
        "\n",
        "# MNIST 데이터 셋 로드\n",
        "train_dataset = datasets.MNIST(root='./data', train=True, transform=transforms.ToTensor(), download=True)\n",
        "test_dataset = datasets.MNIST(root='./data', train=False, transform=transforms.ToTensor())\n",
        "\n",
        "# 데이터 로더 생성\n",
        "train_loader = torch.utils.data.DataLoader(train_dataset, batch_size=64, shuffle=True)\n",
        "test_loader = torch.utils.data.DataLoader(test_dataset, batch_size=1000, shuffle=False)\n",
        "\n",
        "# 모델 정의 (활성함수를 LeakyReLU로 변경, 은닉층 추가)\n",
        "class Net(nn.Module):\n",
        "    def __init__(self):\n",
        "        super(Net, self).__init__()\n",
        "        self.fc1 = nn.Linear (28*28, 512)\n",
        "        self.fc2 = nn.Linear (512, 256) # 은닉층 추가\n",
        "        self.fc3 = nn.Linear (256, 10)\n",
        "        self.dropout = nn.Dropout(p=0.5) # 드롭아웃 추가(과적합 방지)\n",
        "\n",
        "    def forward(self, x):\n",
        "        x = x.view(-1, 28*28)\n",
        "        x = F.leaky_relu(self.fc1(x)) # LeakyRelu로 교체\n",
        "        x = self.dropout(x) # 드롭아웃 적용\n",
        "        x = F.leaky_relu(self.fc2(x)) # 새로운 은닉층 활성함수 통과\n",
        "        x = self.fc3(x)\n",
        "        return x\n",
        "\n",
        "# 모델, 손실 함수, 옵티마이저 초기화\n",
        "model = Net()\n",
        "criterion = nn.MSELoss() # 손실함수 MSELoss로 변경\n",
        "optimizer = optim.Adam(model.parameters(), lr=0.001) # 옵티마이저 Adam으로 변경\n",
        "\n",
        "# 학습\n",
        "for epoch in range(10):\n",
        "    for batch_idx, (data, target) in enumerate(train_loader):\n",
        "        optimizer.zero_grad()\n",
        "        output = model(data)\n",
        "        target_one_hot = torch.nn.functional.one_hot(target, num_classes=10).float() # 코드 추가(손실함수)\n",
        "        loss = criterion(output, target_one_hot) # loss 계산 방식 변경\n",
        "        loss.backward()\n",
        "        optimizer.step()\n",
        "    print ('Epoch %d Loss: %4f' % (epoch+1, loss.item()))\n",
        "\n",
        "# 테스트\n",
        "correct = 0\n",
        "total = 0\n",
        "with torch.no_grad():\n",
        "    for data, target in test_loader:\n",
        "        output = model(data)\n",
        "        # target = torch.eye(10)[target]\n",
        "        _, predicted = torch.max(output.data, 1)\n",
        "        total += target.size(0)\n",
        "        correct += (predicted == target).sum().item()\n",
        "\n",
        "print('Accuracy: {}%'.format(100 * correct / total))"
      ],
      "metadata": {
        "id": "SCGiYWIR4JPN",
        "colab": {
          "base_uri": "https://localhost:8080/"
        },
        "outputId": "ac657606-795b-4c02-a212-42c25d763c74"
      },
      "execution_count": 3,
      "outputs": [
        {
          "output_type": "stream",
          "name": "stdout",
          "text": [
            "Epoch 1 Loss: 0.007102\n",
            "Epoch 2 Loss: 0.004620\n",
            "Epoch 3 Loss: 0.012013\n",
            "Epoch 4 Loss: 0.004023\n",
            "Epoch 5 Loss: 0.002510\n",
            "Epoch 6 Loss: 0.001774\n",
            "Epoch 7 Loss: 0.003607\n",
            "Epoch 8 Loss: 0.002201\n",
            "Epoch 9 Loss: 0.003135\n",
            "Epoch 10 Loss: 0.001357\n",
            "Accuracy: 97.09%\n"
          ]
        }
      ]
    },
    {
      "cell_type": "markdown",
      "source": [
        "Tanh, RMSprop\n"
      ],
      "metadata": {
        "id": "xK-yh8Aaqq9f"
      }
    },
    {
      "cell_type": "code",
      "source": [
        "import torch\n",
        "import torch.nn as nn\n",
        "import torch.optim as optim\n",
        "from torchvision import datasets, transforms\n",
        "\n",
        "# MNIST 데이터 셋 로드\n",
        "train_dataset = datasets.MNIST(root='./data', train=True, transform=transforms.ToTensor(), download=True)\n",
        "test_dataset = datasets.MNIST(root='./data', train=False, transform=transforms.ToTensor())\n",
        "\n",
        "# 데이터 로더 생성\n",
        "train_loader = torch.utils.data.DataLoader(train_dataset, batch_size=64, shuffle=True)\n",
        "test_loader = torch.utils.data.DataLoader(test_dataset, batch_size=1000, shuffle=False)\n",
        "\n",
        "# 모델 정의 (활성함수를 Tanh로 변경, 은닉층 추가)\n",
        "class Net(nn.Module):\n",
        "    def __init__(self):\n",
        "        super(Net, self).__init__()\n",
        "        self.fc1 = nn.Linear (28*28, 512)\n",
        "        self.fc2 = nn.Linear (512, 256) # 은닉층 추가\n",
        "        self.fc3 = nn.Linear (256, 10)\n",
        "        self.dropout = nn.Dropout(p=0.5) # 드롭아웃 추가(과적합 방지)\n",
        "\n",
        "    def forward(self, x):\n",
        "        x = x.view(-1, 28*28)\n",
        "        x = torch.tanh(self.fc1(x)) # Tanh로 교체\n",
        "        x = self.dropout(x) # 드롭아웃 적용\n",
        "        x = torch.tanh(self.fc2(x)) # 새로운 은닉층 활성함수 통과\n",
        "        x = self.fc3(x)\n",
        "        return x\n",
        "\n",
        "# 모델, 손실 함수, 옵티마이저 초기화\n",
        "model = Net()\n",
        "criterion = nn.MSELoss() # 손실함수 MSELoss로 변경\n",
        "optimizer = optim.RMSprop(model.parameters(), lr=0.001) # 옵티마이저 RMSprop로 변경\n",
        "\n",
        "# 학습\n",
        "for epoch in range(10):\n",
        "    for batch_idx, (data, target) in enumerate(train_loader):\n",
        "        optimizer.zero_grad()\n",
        "        output = model(data)\n",
        "        target_one_hot = torch.nn.functional.one_hot(target, num_classes=10).float() # 코드 추가(손실함수)\n",
        "        loss = criterion(output, target_one_hot) # loss 계산 방식 변경\n",
        "        loss.backward()\n",
        "        optimizer.step()\n",
        "    print ('Epoch %d Loss: %4f' % (epoch+1, loss.item()))\n",
        "\n",
        "# 테스트\n",
        "correct = 0\n",
        "total = 0\n",
        "with torch.no_grad():\n",
        "    for data, target in test_loader:\n",
        "        output = model(data)\n",
        "        # target = torch.eye(10)[target]\n",
        "        _, predicted = torch.max(output.data, 1)\n",
        "        total += target.size(0)\n",
        "        correct += (predicted == target).sum().item()\n",
        "\n",
        "print('Accuracy: {}%'.format(100 * correct / total))"
      ],
      "metadata": {
        "id": "o1ui2mUe7Ukg",
        "outputId": "25f2bd64-907a-45dd-e42b-5297ff9ba88d",
        "colab": {
          "base_uri": "https://localhost:8080/"
        }
      },
      "execution_count": 4,
      "outputs": [
        {
          "output_type": "stream",
          "name": "stdout",
          "text": [
            "Epoch 1 Loss: 0.022202\n",
            "Epoch 2 Loss: 0.023279\n",
            "Epoch 3 Loss: 0.015636\n",
            "Epoch 4 Loss: 0.035988\n",
            "Epoch 5 Loss: 0.012738\n",
            "Epoch 6 Loss: 0.015952\n",
            "Epoch 7 Loss: 0.034525\n",
            "Epoch 8 Loss: 0.023279\n",
            "Epoch 9 Loss: 0.030445\n",
            "Epoch 10 Loss: 0.022818\n",
            "Accuracy: 95.49%\n"
          ]
        }
      ]
    },
    {
      "cell_type": "code",
      "source": [],
      "metadata": {
        "id": "87v-tLh6rJz1"
      },
      "execution_count": null,
      "outputs": []
    }
  ],
  "metadata": {
    "colab": {
      "name": "Colab 시작하기",
      "provenance": [],
      "include_colab_link": true
    },
    "kernelspec": {
      "display_name": "Python 3",
      "name": "python3"
    }
  },
  "nbformat": 4,
  "nbformat_minor": 0
}