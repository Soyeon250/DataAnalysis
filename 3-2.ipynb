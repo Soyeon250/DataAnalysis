{
  "cells": [
    {
      "cell_type": "markdown",
      "metadata": {
        "id": "view-in-github",
        "colab_type": "text"
      },
      "source": [
        "<a href=\"https://colab.research.google.com/github/Soyeon250/DataAnalysis/blob/main/3-2.ipynb\" target=\"_parent\"><img src=\"https://colab.research.google.com/assets/colab-badge.svg\" alt=\"Open In Colab\"/></a>"
      ]
    },
    {
      "cell_type": "code",
      "source": [
        "# 한글 처리를 위한 matplotlib 설정 (1)\n",
        "\n",
        "!sudo apt-get install -y fonts-nanum\n",
        "!sudo fc-cache –fv\n",
        "!rm ~/.cache/matplotlib -rf"
      ],
      "metadata": {
        "colab": {
          "base_uri": "https://localhost:8080/"
        },
        "id": "shvgdBQGW_jA",
        "outputId": "dafd75be-3c46-41f7-cd1a-c5f76ebdee41"
      },
      "execution_count": null,
      "outputs": [
        {
          "output_type": "stream",
          "name": "stdout",
          "text": [
            "Reading package lists... Done\n",
            "Building dependency tree... Done\n",
            "Reading state information... Done\n",
            "fonts-nanum is already the newest version (20200506-1).\n",
            "0 upgraded, 0 newly installed, 0 to remove and 38 not upgraded.\n"
          ]
        }
      ]
    },
    {
      "cell_type": "code",
      "source": [
        "# 한글 처리를 위한 matplotlib 설정 (2)\n",
        "\n",
        "import matplotlib.pyplot as plt\n",
        "plt.rc('font', family='NanumBarunGothic')"
      ],
      "metadata": {
        "id": "N4ctnyn-XFfq"
      },
      "execution_count": null,
      "outputs": []
    },
    {
      "cell_type": "code",
      "source": [
        "import requests\n",
        "import pandas as pd\n",
        "import matplotlib.pyplot as plt\n",
        "\n",
        "def get_year_months():\n",
        "  year_months = []\n",
        "  for year in range(2015, 2024+1):\n",
        "    for month in range(1, 12+1):\n",
        "      year_months.append(f'{year}{month:02d}')\n",
        "  return year_months\n",
        "\n",
        "result_data = []\n",
        "\n",
        "api_key = \"5a4e4156566c737935305568525850\"\n",
        "\n",
        "for year_month in get_year_months():\n",
        "    year = year_month[:4]\n",
        "    month = year_month[4:]\n",
        "    url = f\"http://openapi.seoul.go.kr:8088/{api_key}/json/energyUseDataSummaryInfo/1/1000/{year}/{month}\"\n",
        "\n",
        "    response = requests.get(url)\n",
        "\n",
        "    if response.status_code == 200:\n",
        "        data = response.json()\n",
        "\n",
        "        if 'energyUseDataSummaryInfo' in data:\n",
        "            if 'row' in data['energyUseDataSummaryInfo']:\n",
        "              rows = data['energyUseDataSummaryInfo']['row']\n",
        "\n",
        "            for item in rows:\n",
        "              if item.get('MM_TYPE') == '개인':\n",
        "\n",
        "                  energy_data = {\n",
        "                      'YEAR': item.get('YEAR'),\n",
        "                      'MON': item.get('MON'),\n",
        "                      '전기': item.get('EUS'),\n",
        "                      '가스': item.get('GUS'),\n",
        "                      '수도': item.get('WUS'),\n",
        "                      '지역난방': item.get('HUS')\n",
        "                  }\n",
        "                  result_data.append(energy_data)\n",
        "\n",
        "df = pd.DataFrame(result_data)\n",
        "\n",
        "## 연도(year) 컬럼 생성\n",
        "df['연도'] = df['YEAR']\n",
        "\n",
        "## 계절(season) 컬럼 생성\n",
        "def get_season(month):\n",
        "    if 3 <= month <= 5: return '봄'\n",
        "    elif 6 <= month <= 8: return '여름'\n",
        "    elif 9 <= month <= 11: return '가을'\n",
        "    else: return '겨울'\n",
        "df['계절'] = df['MON'].astype(int).apply(get_season)\n",
        "\n",
        "## 에너지 컬럼들을 숫자로 변환\n",
        "energy_cols = ['전기', '가스', '수도', '지역난방']\n",
        "df[energy_cols] = df[energy_cols].apply(pd.to_numeric)\n",
        "\n",
        "## 계절별 가스 사용량 평균 계산\n",
        "seasonal_gas_avg = df.groupby('계절')['가스'].mean()\n",
        "\n",
        "## 막대 그래프 생성\n",
        "plt.bar(seasonal_gas_avg.index, seasonal_gas_avg.values, width=0.5)\n",
        "\n",
        "## 그래프 제목 및 축 이름 설정\n",
        "plt.title('계절별 가스 사용량 평균')\n",
        "plt.xlabel('계절')\n",
        "plt.ylabel('평균 가스 사용량')\n",
        "\n",
        "## 그래프 출력\n",
        "plt.show()"
      ],
      "metadata": {
        "colab": {
          "base_uri": "https://localhost:8080/",
          "height": 471
        },
        "id": "D-DBL8fuY-ym",
        "outputId": "baa4c214-5a78-4227-ef06-e2f6e39bc80a"
      },
      "execution_count": null,
      "outputs": [
        {
          "output_type": "display_data",
          "data": {
            "text/plain": [
              "<Figure size 640x480 with 1 Axes>"
            ],
            "image/png": "[encoded data removed]"
          },
          "metadata": {}
        }
      ]
    },
    {
      "cell_type": "code",
      "source": [],
      "metadata": {
        "id": "vDSNiO5iZBnO"
      },
      "execution_count": null,
      "outputs": []
    },
    {
      "cell_type": "code",
      "source": [],
      "metadata": {
        "id": "xMOcOoVFtD4e"
      },
      "execution_count": null,
      "outputs": []
    },
    {
      "cell_type": "code",
      "source": [],
      "metadata": {
        "id": "JRmnCl4rtEQh"
      },
      "execution_count": null,
      "outputs": []
    }
  ],
  "metadata": {
    "colab": {
      "name": "Colab 시작하기",
      "provenance": [],
      "include_colab_link": true
    },
    "kernelspec": {
      "display_name": "Python 3",
      "name": "python3"
    }
  },
  "nbformat": 4,
  "nbformat_minor": 0
}